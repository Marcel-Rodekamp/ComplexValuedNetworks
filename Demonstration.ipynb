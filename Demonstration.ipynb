{
 "cells": [
  {
   "cell_type": "markdown",
   "metadata": {},
   "source": [
    "# Demonstation: Complex-Valued Affine Coupling Layer\n",
    "\n",
    "This notebook is meant to show how the affine coupling layer - with complex-valued trainable parameters - works.\n",
    "To show a typical show case, the next lines of code implement the 2-site Hubbard model. \n",
    "For more information about the methods referr to [our paper](https://arxiv.org/abs/2203.00390)."
   ]
  },
  {
   "cell_type": "code",
   "execution_count": 1,
   "metadata": {},
   "outputs": [],
   "source": [
    "# Everything is set up to work in torch to make interfacing with the neural network easier\n",
    "import torch\n",
    "\n",
    "# plotting is done using matplotlib \n",
    "import matplotlib.pyplot as plt\n",
    "\n",
    "# matplotlib works better with numpy.\n",
    "import numpy as np\n",
    "\n",
    "# For fitting wie simply use\n",
    "from scipy.optimize import curve_fit\n",
    "\n",
    "# Easier looping\n",
    "import itertools as it\n",
    "\n",
    "\n",
    "# The Layers are implemented using torch.nn.Module:\n",
    "# Implementation the Paired (Random) Coupling Layer (PRCL)\n",
    "from layer import PRCL\n",
    "# Implementation of the Affine Coupling\n",
    "from layer import AffineCoupling\n",
    "\n",
    "# The Layers are set up to calculate the log det on the fly. \n",
    "# This requires a special implementation of the sequential container\n",
    "from layer import Sequential"
   ]
  },
  {
   "cell_type": "code",
   "execution_count": 2,
   "metadata": {},
   "outputs": [],
   "source": [
    "# the code is absolutely not optimized for GPU nor could the \n",
    "# 2 site problem fill a GPU thus it might be best to keep it \n",
    "# with device = 'cpu'.\n",
    "torchTensorArgs = {\n",
    "    \"device\": torch.device('cpu'),\n",
    "    \"dtype\" : torch.cdouble\n",
    "}"
   ]
  },
  {
   "cell_type": "markdown",
   "metadata": {},
   "source": [
    "## Simulation parameter\n",
    "\n",
    "The following cell defines the parameter of the Hubbard model. "
   ]
  },
  {
   "cell_type": "code",
   "execution_count": 3,
   "metadata": {},
   "outputs": [],
   "source": [
    "### Number of time slices\n",
    "Nt   = 4\n",
    "\n",
    "# Controle the continuum limit with\n",
    "beta = 1\n",
    "\n",
    "# On site interaction\n",
    "U    = 1\n",
    "\n",
    "# chemical potential\n",
    "mu   = 1\n",
    "\n",
    "# lattice spacing\n",
    "delta= beta/Nt\n",
    "\n",
    "# Put to 0 if not desired:\n",
    "# tangent plane \n",
    "tpOffset = -6.97420945e-02 # Nt=4,beta=U=mu=1\n",
    "# tpOffset = 0"
   ]
  },
  {
   "cell_type": "code",
   "execution_count": 4,
   "metadata": {},
   "outputs": [],
   "source": [
    "# Don't change anything in this cell! \n",
    "# It provides named variables to increase readability of the code\n",
    "\n",
    "# number of ions in the lattice\n",
    "Nx = 2\n",
    "\n",
    "# Make all variables unit less\n",
    "U  = delta * U\n",
    "mu = delta * mu\n",
    "\n",
    "# hopping matrix (particles)\n",
    "# exp( \\kappa + C^p )\n",
    "expKappa_p = torch.zeros((Nx, Nx),**torchTensorArgs)\n",
    "expKappa_p[0, 0] = np.cosh(delta) * np.exp(mu)\n",
    "expKappa_p[0, 1] = np.sinh(delta) * np.exp(mu)\n",
    "expKappa_p[1, 0] = np.sinh(delta) * np.exp(mu)\n",
    "expKappa_p[1, 1] = np.cosh(delta) * np.exp(mu)\n",
    "\n",
    "# hopping matrix (holes)\n",
    "# exp( \\kappa + C^h )\n",
    "expKappa_h = torch.zeros((Nx, Nx),**torchTensorArgs)\n",
    "expKappa_h[0, 0] =  np.cosh(delta) * np.exp(-mu)\n",
    "expKappa_h[0, 1] = -np.sinh(delta) * np.exp(-mu)\n",
    "expKappa_h[1, 0] = -np.sinh(delta) * np.exp(-mu)\n",
    "expKappa_h[1, 1] =  np.cosh(delta) * np.exp(-mu)"
   ]
  },
  {
   "cell_type": "code",
   "execution_count": 5,
   "metadata": {},
   "outputs": [],
   "source": [
    "\n",
    "def Mold(phi,species):\n",
    "    r\"\"\"\n",
    "        \\params:\n",
    "            - phi: torch.tensor(Nt,Nx), configuration\n",
    "            - species: +1 for particles, -1 for holes\n",
    "        \n",
    "        M(phi)_{t',x'; t,x} = \\delta_{t',t} \\delta_{x',x} - exp(s*(\\Kappa+\\mu))_{x',x} exp(i*s*\\Phi_{t,x}) \\delta_{t',t+1} \n",
    "    \"\"\"\n",
    "    M = torch.zeros((Nt, Nx, Nt, Nx), **torchTensorArgs)\n",
    "    \n",
    "    # determine the expression of exp(s*Kappa) from the species \n",
    "    if species == 1:\n",
    "        expKappa = expKappa_p\n",
    "    elif species == -1:\n",
    "        expKappa = expKappa_h\n",
    "    else:\n",
    "        return ValueError(f\"Fermion Matrix got wrong species arguement. Must be +/- 1 but is {species}.\")\n",
    "    \n",
    "    # precompute the exponential of the configuration\n",
    "    expphi = torch.exp(species*1.j*phi)\n",
    "    \n",
    "    # bulk time slices\n",
    "    for t in range(Nt - 1):\n",
    "        # \\delta_{t',t} \\delta_{x',x}\n",
    "        M[t, :, t, :] = torch.eye(Nx,**torchTensorArgs)\n",
    "        \n",
    "        for x in range(Nx):\n",
    "            for y in range(Nx):\n",
    "                # - exp(s*(\\Kappa+\\mu))_{x',x} exp(i*s*\\Phi_{t,x}) \\delta_{t',t+1}\n",
    "                #print(expKappa[x,y])\n",
    "                #print(expphi[t, y])\n",
    "                #print(M[t+1, x, t, y])\n",
    "                M[t+1, x, t, y] = -expKappa[x, y] * expphi[t, y]\n",
    "    \n",
    "    # \\delta_{t',t} \\delta_{x',x}\n",
    "    M[Nt - 1, :, Nt - 1, :] = torch.eye(Nx,**torchTensorArgs)\n",
    "    \n",
    "    # bundary time slice \n",
    "    # term t' = Nt = 0,  t = Nt-1\n",
    "    for x in range(Nx):\n",
    "        for y in range(Nx):\n",
    "            # exp(s*(\\Kappa+\\mu))_{x',x} exp(i*s*\\Phi_{t,x}) \\delta_{t',t+1}\n",
    "            M[0, x, Nt-1, y] = expKappa[x, y] * expphi[Nt-1, y]\n",
    "\n",
    "    return M\n"
   ]
  },
  {
   "cell_type": "code",
   "execution_count": 6,
   "metadata": {},
   "outputs": [],
   "source": [
    "def M(phi,species):\n",
    "    r\"\"\"\n",
    "        \\params:\n",
    "            - phi: torch.tensor(Nt,Nx), configuration\n",
    "            - species: +1 for particles, -1 for holes\n",
    "        \n",
    "        M(phi)_{t',x'; t,x} = \\delta_{t',t} \\delta_{x',x} - exp(s*(\\Kappa+\\mu))_{x',x} exp(i*s*\\Phi_{t,x}) \\delta_{t',t+1} \n",
    "    \"\"\"\n",
    "    Nt,Nx = phi.shape\n",
    "    \n",
    "    M = torch.zeros((Nt, Nx, Nt, Nx), **torchTensorArgs)\n",
    "    \n",
    "    # determine the expression of exp(s*Kappa) from the species \n",
    "    if species == 1:\n",
    "        expKappa = expKappa_p\n",
    "    elif species == -1:\n",
    "        expKappa = expKappa_h\n",
    "    else:\n",
    "        return ValueError(f\"Fermion Matrix got wrong species argument. Must be +/- 1 but is {species}.\")\n",
    "    \n",
    "    # precompute the exponential of the configuration\n",
    "    #print(phi.shape)\n",
    "    expphi = torch.exp(species*1.j*phi)\n",
    "    \n",
    "    ts = torch.arange(0,Nt-1)\n",
    "    M[ts,:,ts,:] = torch.eye(Nx,**torchTensorArgs)\n",
    "    \n",
    "    M[ts+1, :, ts, :] = -expKappa[:, :] * expphi[ts,None, :]\n",
    "    # bulk time slices\n",
    "    #for t in range(Nt - 1):\n",
    "        # \\delta_{t',t} \\delta_{x',x}\n",
    "       # M[t, :, t, :] = torch.eye(Nx,**torchTensorArgs)\n",
    "        \n",
    "       # M[t+1, :, t, :] = -expKappa[:, :] * expphi[t,None, :]\n",
    "    \n",
    "    # \\delta_{t',t} \\delta_{x',x}\n",
    "    M[Nt - 1, :, Nt - 1, :] = torch.eye(Nx,**torchTensorArgs)\n",
    "    \n",
    "    # bundary time slice \n",
    "    # term t' = Nt = 0,  t = Nt-1\n",
    "        # exp(s*(\\Kappa+\\mu))_{x',x} exp(i*s*\\Phi_{t,x}) \\delta_{t',t+1}\n",
    "    \n",
    "    M[0, :, Nt-1, :] = expKappa[:, :] * expphi[Nt-1,None, :]\n",
    "\n",
    "    return M"
   ]
  },
  {
   "cell_type": "code",
   "execution_count": 7,
   "metadata": {},
   "outputs": [
    {
     "data": {
      "text/plain": [
       "'%%time\\n\\nphi = torch.randn(Nt,Nx,**torchTensorArgs)\\nM1 = Mprime(phi,1)\\nM2 = M(phi,1)\\n\\n\\nprint(M1[~(M1==M2)])\\nprint(torch.argwhere(M1 != M2))\\n\\nfor t,x,tp,xp in it.product(range(Nt), range(Nx),range(Nt), range(Nx)):\\n    if M1[t,x,tp,xp] != M2[t,x,tp,xp]:\\n        print(t,x,tp,xp)\\n        '"
      ]
     },
     "execution_count": 7,
     "metadata": {},
     "output_type": "execute_result"
    }
   ],
   "source": [
    "'''%%time\n",
    "\n",
    "phi = torch.randn(Nt,Nx,**torchTensorArgs)\n",
    "M1 = Mprime(phi,1)\n",
    "M2 = M(phi,1)\n",
    "\n",
    "\n",
    "print(M1[~(M1==M2)])\n",
    "print(torch.argwhere(M1 != M2))\n",
    "\n",
    "for t,x,tp,xp in it.product(range(Nt), range(Nx),range(Nt), range(Nx)):\n",
    "    if M1[t,x,tp,xp] != M2[t,x,tp,xp]:\n",
    "        print(t,x,tp,xp)\n",
    "        '''"
   ]
  },
  {
   "cell_type": "code",
   "execution_count": 8,
   "metadata": {},
   "outputs": [
    {
     "data": {
      "text/plain": [
       "\"'%%timeit\\n\\nx=M(phi,1)\""
      ]
     },
     "execution_count": 8,
     "metadata": {},
     "output_type": "execute_result"
    }
   ],
   "source": [
    "''''%%timeit\n",
    "\n",
    "x=M(phi,1)'''"
   ]
  },
  {
   "cell_type": "code",
   "execution_count": 9,
   "metadata": {},
   "outputs": [
    {
     "data": {
      "text/plain": [
       "\"'%%timeit\\n\\nx=Mprime(phi,1)\""
      ]
     },
     "execution_count": 9,
     "metadata": {},
     "output_type": "execute_result"
    }
   ],
   "source": [
    "''''%%timeit\n",
    "\n",
    "x=Mprime(phi,1)'''"
   ]
  },
  {
   "cell_type": "code",
   "execution_count": 10,
   "metadata": {},
   "outputs": [],
   "source": [
    "# to define the action we will need the log det of the matrices\n",
    "def logdetM(phi,species):    \n",
    "    r\"\"\"\n",
    "        \\params:\n",
    "            - phi: torch.tensor(Nt,Nx), configuration\n",
    "            - species: +1 for particles, -1 for holes\n",
    "        \n",
    "        \\log \\det [M(phi)_{t',x'; t,x}] \n",
    "    \"\"\"\n",
    "    # For torch to handle M as a matrix we can simply reshape the 4 rank tensor to a 2 rank tensor (i.e. matrix)\n",
    "    return torch.log(torch.linalg.det(M(phi,species).reshape(Nt*Nx,Nt*Nx)))"
   ]
  },
  {
   "cell_type": "code",
   "execution_count": 11,
   "metadata": {},
   "outputs": [],
   "source": [
    "# the action of the system\n",
    "def action(phi):\n",
    "    r\"\"\"\n",
    "        \\params:\n",
    "            - phi: torch.tensor(Nt,Nx), configuration\n",
    "            - species: +1 for particles, -1 for holes\n",
    "        \n",
    "        S(\\phi) = \\frac{1}{2U} \\phi^T \\phi - \\log{\\det{ M^p \\cdot M^h }}   \n",
    "    \"\"\"\n",
    "    return (phi*phi).sum()/(2*U) - logdetM(phi,+1) - logdetM(phi,-1) "
   ]
  },
  {
   "cell_type": "code",
   "execution_count": 12,
   "metadata": {},
   "outputs": [],
   "source": [
    "# generalized MD hamiltonian\n",
    "def hamiltonian(phi,pi):\n",
    "    r\"\"\"\n",
    "        \\params:\n",
    "            - phi: torch.tensor(Nt,Nx), configuration\n",
    "            - species: +1 for particles, -1 for holes\n",
    "        \n",
    "        H(\\phi) = \\frac{1}{2} \\pi^T \\pi + S(\\phi)   \n",
    "    \"\"\"\n",
    "\n",
    "    return 0.5*(pi*pi).sum() + action(phi)"
   ]
  },
  {
   "cell_type": "code",
   "execution_count": 13,
   "metadata": {},
   "outputs": [],
   "source": [
    "# The force term from log det M^p\n",
    "def TrMinvMprime(phi,species):\n",
    "    r\"\"\"\n",
    "        \\params:\n",
    "            - phi: torch.tensor(Nt,Nx), configuration\n",
    "            - species: +1 for particles, -1 for holes\n",
    "        \n",
    "        \\frac{d \\log{\\det{ M(\\phi) }}}{ d\\phi } = \\Tr{ M^{-1}(\\phi) \\cdot \\frac{dM(\\phi)}{d\\phi} }\n",
    "        \n",
    "        where \n",
    "        \n",
    "        \\frac{dM(\\phi)_{t',x'; t,x}} }{d\\phi_{t,x}} = -i*s* exp(s*(\\Kappa+\\mu))_{x',x} exp(i*s*\\phi_{t,x}) \\delta_{t',t+1} \n",
    "    \"\"\"\n",
    "    # Tr = d logdetM(\\phi)/d\\phi_{t,x}\n",
    "    Tr = torch.zeros((Nt,Nx),**torchTensorArgs)\n",
    "    \n",
    "    # determine the expression of exp(s*Kappa) from the species \n",
    "    if species == 1:\n",
    "        expKappa = expKappa_p\n",
    "    elif species == -1:\n",
    "        expKappa = expKappa_h\n",
    "    else:\n",
    "        return ValueError(f\"Force got wrong species argument. Must be +/- 1 but is {species}.\")\n",
    "    \n",
    "    expphi = torch.exp(species*1j*phi)\n",
    "    \n",
    "    # again reshape M for torch to understand it as a matrix\n",
    "    Minv = torch.linalg.inv(\n",
    "        M(phi,species).reshape(Nt * Nx, Nt * Nx)\n",
    "    ).reshape(Nt, Nx, Nt, Nx)\n",
    "    \n",
    "    ts = torch.arange(0,Nt-1)\n",
    "    \n",
    "    #bulk time slices\n",
    "    #for t in range(Nt-1): \n",
    "        #for x in range(Nx):\n",
    "            # temp_{t,x} = sum_{t'} M^{-1}_{t,x; t',x'} exp(s*(\\Kappa+\\mu))_{x',x} \\delta_{t',t+1}\n",
    "            # This is the matrix multiplication with y=x'\n",
    "            # The sum over t' is resolved with the delta_{t',t+1}\n",
    "        \n",
    "    temp = torch.diagonal(torch.tensordot(Minv[ts,:,ts+1,:],expKappa[:,:],dims=1), dim1 = 1, dim2 = -1)\n",
    "        \n",
    "        #print(temp)    \n",
    "            # (TrMinvM)_{t,x} = -i * s * temp_{t,x} * exp(i*s*\\phi_{t,x})\n",
    "    Tr[ts, :] = -1.j * species * temp[:] * expphi[ts, :]\n",
    "    \n",
    "    # boundary time slice\n",
    "    # term t = Nt=0, t' = Nt=-1 \n",
    "    #for x in range(Nx):\n",
    "        # temp_{Nt-1,x} = M^{-1}_{0,x; t'=0,x'} exp(s*(\\Kappa+\\mu))_{x',x} \\delta_{t'=0,t+1}tmp_{t,x} \n",
    "        #               = M^{-1}_{t,x,t+1} @ exp(Kappa) \n",
    "    temp = torch.diag(torch.tensordot(Minv[Nt-1,:,0,:],expKappa[:,:],dims=1))\n",
    "    # (TrMinvM)_{Nt-1,x} = i * s * tmp_{t,x} * exp(i*s*phi_{t,x})\n",
    "    Tr[Nt - 1, :] = 1.j * species * temp * expphi[Nt-1, :]\n",
    "\n",
    "    return Tr"
   ]
  },
  {
   "cell_type": "code",
   "execution_count": 14,
   "metadata": {},
   "outputs": [],
   "source": [
    "# The force term from log det M^p\n",
    "def TrMinvM(phi,species):\n",
    "    r\"\"\"\n",
    "        \\params:\n",
    "            - phi: torch.tensor(Nt,Nx), configuration\n",
    "            - species: +1 for particles, -1 for holes\n",
    "        \n",
    "        \\frac{d \\log{\\det{ M(\\phi) }}}{ d\\phi } = \\Tr{ M^{-1}(\\phi) \\cdot \\frac{dM(\\phi)}{d\\phi} }\n",
    "        \n",
    "        where \n",
    "        \n",
    "        \\frac{dM(\\phi)_{t',x'; t,x}} }{d\\phi_{t,x}} = -i*s* exp(s*(\\Kappa+\\mu))_{x',x} exp(i*s*\\phi_{t,x}) \\delta_{t',t+1} \n",
    "    \"\"\"\n",
    "    # Tr = d logdetM(\\phi)/d\\phi_{t,x}\n",
    "    Tr = torch.zeros((Nt,Nx),**torchTensorArgs)\n",
    "    \n",
    "    # determine the expression of exp(s*Kappa) from the species \n",
    "    if species == 1:\n",
    "        expKappa = expKappa_p\n",
    "    elif species == -1:\n",
    "        expKappa = expKappa_h\n",
    "    else:\n",
    "        return ValueError(f\"Force got wrong species argument. Must be +/- 1 but is {species}.\")\n",
    "    \n",
    "    expphi = torch.exp(species*1j*phi)\n",
    "    \n",
    "    # again reshape M for torch to understand it as a matrix\n",
    "    Minv = torch.linalg.inv(\n",
    "        M(phi,species).reshape(Nt * Nx, Nt * Nx)\n",
    "    ).reshape(Nt, Nx, Nt, Nx)\n",
    "    \n",
    "    #bulk time slices\n",
    "    for t in range(Nt-1):  \n",
    "        for x in range(Nx):\n",
    "            # temp_{t,x} = sum_{t'} M^{-1}_{t,x; t',x'} exp(s*(\\Kappa+\\mu))_{x',x} \\delta_{t',t+1}\n",
    "            # This is the matrix multiplication with y=x'\n",
    "            # The sum over t' is resolved with the delta_{t',t+1}\n",
    "            temp = 0.+0.j\n",
    "            for y in range(Nx):\n",
    "                temp += Minv[t, x, t + 1, y] * expKappa[y, x]\n",
    "            \n",
    "            # (TrMinvM)_{t,x} = -i * s * temp_{t,x} * exp(i*s*\\phi_{t,x})\n",
    "            Tr[t, x] = -1.j * species * temp * expphi[t, x]\n",
    "    \n",
    "    # boundary time slice\n",
    "    # term t = Nt=0, t' = Nt=-1 \n",
    "    for x in range(Nx):\n",
    "        # temp_{Nt-1,x} = M^{-1}_{0,x; t'=0,x'} exp(s*(\\Kappa+\\mu))_{x',x} \\delta_{t'=0,t+1}tmp_{t,x} \n",
    "        #               = M^{-1}_{t,x,t+1} @ exp(Kappa) \n",
    "        temp = 0.+0.j\n",
    "        for y in range(Nx):\n",
    "            temp += Minv[Nt-1, x, 0, y] * expKappa[y, x]\n",
    "\n",
    "        # (TrMinvM)_{Nt-1,x} = i * s * tmp_{t,x} * exp(i*s*phi_{t,x})\n",
    "        Tr[Nt - 1, x] = 1.j * species * temp * expphi[Nt-1, x]\n",
    "\n",
    "    return Tr\n",
    "    \n",
    "def TrMinvM_ph(phi):\n",
    "    r\"\"\"\n",
    "        \\params:\n",
    "            - phi: torch.tensor(Nt,Nx), configuration\n",
    "        \n",
    "         Compute the fermionic part of the force (see TrMinvM) for both species\n",
    "    \"\"\"\n",
    "    return TrMinvM(phi,+1) + TrMinvM(phi,-1)"
   ]
  },
  {
   "cell_type": "code",
   "execution_count": 15,
   "metadata": {},
   "outputs": [
    {
     "name": "stdout",
     "output_type": "stream",
     "text": [
      "tensor([[-0.1443+0.9032j,  0.3077+0.5467j],\n",
      "        [-0.0646+0.8758j,  0.2280+0.5740j],\n",
      "        [-0.0466+0.7549j,  0.2100+0.6950j],\n",
      "        [-0.1626+0.8053j,  0.3260+0.6446j]], dtype=torch.complex128)\n",
      "tensor([[-0.1443+0.9032j,  0.3077+0.5467j],\n",
      "        [-0.0646+0.8758j,  0.2280+0.5740j],\n",
      "        [-0.0466+0.7549j,  0.2100+0.6950j],\n",
      "        [-0.1626+0.8053j,  0.3260+0.6446j]], dtype=torch.complex128)\n",
      "tensor([[ 0.0000e+00+0.0000e+00j,  0.0000e+00+0.0000e+00j],\n",
      "        [ 0.0000e+00+0.0000e+00j,  0.0000e+00+0.0000e+00j],\n",
      "        [ 0.0000e+00+0.0000e+00j,  0.0000e+00+0.0000e+00j],\n",
      "        [ 0.0000e+00+0.0000e+00j, -5.5511e-17-1.1102e-16j]],\n",
      "       dtype=torch.complex128)\n",
      "tensor([[ True,  True],\n",
      "        [ True,  True],\n",
      "        [ True,  True],\n",
      "        [ True, False]])\n"
     ]
    }
   ],
   "source": [
    "phi = torch.randn(Nt,Nx,**torchTensorArgs)\n",
    "x=TrMinvMprime(phi,1)\n",
    "y=TrMinvM(phi,1)\n",
    "\n",
    "print(x)\n",
    "print(y)\n",
    "print(x - y)\n",
    "print(x == y)\n"
   ]
  },
  {
   "cell_type": "code",
   "execution_count": 16,
   "metadata": {},
   "outputs": [
    {
     "name": "stdout",
     "output_type": "stream",
     "text": [
      "826 µs ± 79.3 µs per loop (mean ± std. dev. of 7 runs, 1000 loops each)\n"
     ]
    }
   ],
   "source": [
    "%%timeit\n",
    "\n",
    "x = TrMinvMprime(phi,1)\n"
   ]
  },
  {
   "cell_type": "code",
   "execution_count": 17,
   "metadata": {},
   "outputs": [
    {
     "name": "stdout",
     "output_type": "stream",
     "text": [
      "1.33 ms ± 132 µs per loop (mean ± std. dev. of 7 runs, 1000 loops each)\n"
     ]
    }
   ],
   "source": [
    "%%timeit\n",
    "\n",
    "x = TrMinvM(phi,1)\n"
   ]
  },
  {
   "cell_type": "code",
   "execution_count": 18,
   "metadata": {},
   "outputs": [],
   "source": [
    "def force(phi):\n",
    "    r\"\"\"\n",
    "        \\params:\n",
    "            - phi: torch.tensor(Nt,Nx), configuration\n",
    "            \n",
    "        F(phi) = - dS(phi)/dphi = - d/dphi ( 1/2U phi^2 - log det M^p - log det M^h )\n",
    "                                = - [ 1/U phi - Tr( M^{p,-1} dM^p/dphi + M^{h,-1} dM^h/dphi ) ]\n",
    "    \"\"\"\n",
    "    \n",
    "    return -(phi/U - TrMinvM_ph(phi))"
   ]
  },
  {
   "cell_type": "code",
   "execution_count": 19,
   "metadata": {},
   "outputs": [
    {
     "name": "stdout",
     "output_type": "stream",
     "text": [
      "Force test succeeded without error\n"
     ]
    }
   ],
   "source": [
    "testForce = True\n",
    "if testForce:\n",
    "    succeed = True\n",
    "    epsilon = 1e-4\n",
    "    \n",
    "    phi = torch.randn((Nt,Nx),**torchTensorArgs).real + 1j*tpOffset\n",
    "    \n",
    "    forceValue = force(phi)\n",
    "    \n",
    "    S = action(phi)\n",
    "    \n",
    "    for t,x in it.product(range(Nt),range(Nx)):\n",
    "        phiPeps = phi.clone()\n",
    "        phiPeps[t,x]+=epsilon\n",
    "        \n",
    "        SPeps = action(phiPeps)\n",
    "        \n",
    "        dS = (SPeps - S)/epsilon\n",
    "        \n",
    "        # force = -dS/dPhi\n",
    "        Re_err = torch.abs(dS.real+forceValue[t,x].real).item()\n",
    "        Im_err = torch.abs(dS.imag+forceValue[t,x].imag).item()\n",
    "        err    = torch.abs(dS+forceValue[t,x]).item()\n",
    "        \n",
    "        if Re_err >= epsilon*10:\n",
    "            print(f\"Re Force error[{t=},{x=}] = {Re_err:.1e} > {epsilon:.0e}\")\n",
    "            succeed = False\n",
    "        if Im_err >= epsilon*10:\n",
    "            print(f\"Im Force error[{t=},{x=}] = {Im_err:.1e} > {epsilon:.0e}\")\n",
    "            succeed = False\n",
    "        if err >= epsilon*10:\n",
    "            print(f\"Abs Force error[{t=},{x=}]= {err:.1e} > {epsilon:.0e}\")\n",
    "            succeed = False\n",
    "            \n",
    "    if succeed:\n",
    "        print(f\"Force test succeeded without error\")"
   ]
  },
  {
   "cell_type": "code",
   "execution_count": 20,
   "metadata": {},
   "outputs": [],
   "source": [
    "def leapfrog(phi0,pi0,trajLength,Nmd,direction = 1):\n",
    "    r\"\"\"\n",
    "        \\params:\n",
    "            - phi0: torch.tensor(Nt,Nx), start configuration \n",
    "            - pi0 : torch.tensor(Nt,Nx), momentum field (complex dtype but with vanishing imaginary part)\n",
    "            - trajLength: float, trajectory length i.e. time to which the eom are integrated\n",
    "            - Nmd : int, number of molecular dynamics steps \n",
    "            - direction: int, direction (+/-) in which the algorithm should integrade\n",
    "            \n",
    "        This function integrades the Hamilton Equation of Motion (see hamiltonian and force) using the \n",
    "        leapfrog algorithm.\n",
    "        \n",
    "        This algorithm is reversible up to numerical precision and energy preserving up to order epsilon^2 where\n",
    "        epsilon = trajLength/Nmd\n",
    "    \"\"\"\n",
    "    # deepcopy the fields to not change the original torch tensors\n",
    "    phi = phi0.clone()\n",
    "    pi = pi0.clone()\n",
    "    \n",
    "    # compute the step size and specify the integration direction \n",
    "    stepSize = direction*trajLength/Nmd \n",
    "    \n",
    "    # first half step\n",
    "    # x_{1/2} = x_{0} + 0.5*\\Delta t * p_{0}\n",
    "    phi+= 0.5 * stepSize * pi\n",
    "    \n",
    "    # a bunch of full steps\n",
    "    # p_{t+1} = p_{t} + \\Delta t Re(dS/dphi)\n",
    "    # x_{t+3/2} = x_{t+1/2} + \\Delta t * p_{t+1}\n",
    "    for _ in range(Nmd-1):\n",
    "        pi += stepSize * force(phi).real\n",
    "        phi+= stepSize * pi\n",
    "    \n",
    "    # final half step\n",
    "    # p_{Nmd-1} = p_{Nmd-2} + \\Delta t Re(dS/dphi)\n",
    "    # x_{Nmd-1} = x_{Nmd-3/2} + 0.5 \\Delta t * p_{Nmd-1}\n",
    "    pi += stepSize * force(phi).real\n",
    "    phi+= 0.5 * stepSize * pi\n",
    "    \n",
    "    return phi,pi"
   ]
  },
  {
   "cell_type": "code",
   "execution_count": 21,
   "metadata": {},
   "outputs": [
    {
     "name": "stdout",
     "output_type": "stream",
     "text": [
      "Wall time: 0 ns\n"
     ]
    }
   ],
   "source": [
    "%%time\n",
    "\n",
    "# set True to execute test, set False to skip test\n",
    "testLeapfrog = False\n",
    "\n",
    "if testLeapfrog:\n",
    "    # define test parameter \n",
    "    trajLengthList = torch.tensor([1])\n",
    "    NmdList = torch.arange(0,101,10)[1:]\n",
    "    \n",
    "    print(f\"Testing with:\\n\"\n",
    "         +f\"\\t * Trajectory lengths: {list(trajLengthList.numpy())}\\n\"\n",
    "         +f\"\\t * N_MD: {list(NmdList.numpy())}\\n\",\n",
    "          end = \"\"\n",
    "    )\n",
    "    \n",
    "    # free theory:\n",
    "    #phi_s = torch.zeros((Nt,Nx),**torchTensorArgs) \n",
    "    # interacting theory:\n",
    "    phi_s = torch.randn((Nt,Nx),**torchTensorArgs).real + 1j*tpOffset\n",
    "    # pi_s is of complex dtype but need to be real. \n",
    "    # As torchTensorArgs specifies makes the tensor complex (at least it should ;) \n",
    "    # randn will sample a real and imaginary part \n",
    "    # this means we need to take the real part and add a zero imaginary part again\n",
    "    pi_s  = torch.randn((Nt,Nx),**torchTensorArgs).real + 0j\n",
    "    \n",
    "    H0 = hamiltonian(phi_s,pi_s)\n",
    "    \n",
    "    reversibility_error = torch.zeros( size=(len(trajLengthList),len(NmdList)) )\n",
    "    energyConservation_error = torch.zeros( size=(len(trajLengthList),len(NmdList)) )\n",
    "    \n",
    "    for (tlID,trajLength),(NmdID,Nmd) in it.product(enumerate(trajLengthList),enumerate(NmdList)):\n",
    "        # forward\n",
    "        phi_lf,pi_lf = leapfrog(\n",
    "            phi0 = phi_s,\n",
    "            pi0  = pi_s ,\n",
    "            trajLength = trajLength,\n",
    "            Nmd    = Nmd,\n",
    "            direction = 1\n",
    "        )\n",
    "        \n",
    "        # backward\n",
    "        phi_e,pi_e = leapfrog(\n",
    "            phi0 = phi_lf,\n",
    "            pi0  = pi_lf ,\n",
    "            trajLength = trajLength,\n",
    "            Nmd    = Nmd,\n",
    "            direction = -1\n",
    "        )\n",
    "        \n",
    "        reversibility_error[tlID,NmdID] = (phi_s-phi_e).sum().abs() + (pi_s-pi_e).sum().abs()\n",
    "        energyConservation_error[tlID,NmdID] = ((hamiltonian(phi_lf,pi_lf)-H0).real/H0.real).abs()"
   ]
  },
  {
   "cell_type": "code",
   "execution_count": 22,
   "metadata": {},
   "outputs": [],
   "source": [
    "if testLeapfrog:\n",
    "    # plotting Reversibility Error: Expected is zero within some round of errors\n",
    "    for tlID,trajLength in enumerate(trajLengthList):\n",
    "        plt.plot(NmdList, reversibility_error[tlID,:],'x', label = f\"Trajectory Length: {trajLength}\")\n",
    "    plt.xlabel(r\"$N_{MD}$\")\n",
    "    plt.ylabel(r\"$||\\Phi_s-\\Phi_e||+||\\pi_s-\\pi_e||$\")\n",
    "    plt.legend()"
   ]
  },
  {
   "cell_type": "code",
   "execution_count": 23,
   "metadata": {},
   "outputs": [],
   "source": [
    "if testLeapfrog:    \n",
    "    # plotting Energy Conservation Error: Expected is square dependency with trajectoryLength/Nmd\n",
    "    print(f\"Best Fit Results: A x² + B\")\n",
    "    for tlID,trajLength in enumerate(trajLengthList):\n",
    "        plt.plot(trajLength/NmdList, energyConservation_error[tlID,:],'x:', label = f\"Trajectory Length L={trajLength}\")\n",
    "        popt,_ = curve_fit(\n",
    "            f = lambda x,A,B: A*x**2+B,\n",
    "            xdata = (trajLength/NmdList).numpy(),\n",
    "            ydata = energyConservation_error[tlID,:].numpy()\n",
    "        )\n",
    "        popt,pcov = curve_fit(\n",
    "            f = lambda x,A,B: A*x**2+B,\n",
    "            xdata = (trajLength/NmdList).numpy(),\n",
    "            ydata = energyConservation_error[tlID,:].numpy(),\n",
    "            p0 = popt\n",
    "        )\n",
    "        abscissa = np.linspace(0, trajLength/torch.min(NmdList).item(),1000 )\n",
    "        ordinate = popt[0] * abscissa**2 + popt[1]\n",
    "        plt.plot(abscissa,ordinate,label = rf\"Best Fit(L={trajLength}): $A x^2 + B$\")\n",
    "        print(f\"* L = {trajLength}: \\n\"\n",
    "            + f\"\\t A = {popt[0]: .2e} \\u00b1 {np.sqrt(pcov[0,0]):.2e}\\n\"\n",
    "            + f\"\\t B = {popt[1]: .2e} \\u00b1 {np.sqrt(pcov[1,1]):.2e}\"\n",
    "        )\n",
    "        \n",
    "    plt.xlabel(r\"$\\varepsilon = \\frac{L}{N_{MD}}$\")\n",
    "    plt.ylabel(r\"$\\left\\vert\\Re{\\frac{H_L - H_0}{H_0}}\\right\\vert$\")\n",
    "    plt.legend()"
   ]
  },
  {
   "cell_type": "code",
   "execution_count": 24,
   "metadata": {},
   "outputs": [],
   "source": [
    "def HMC(phi0, trajLength, Nmd, Nconf, burnIn, thermalization = 0):\n",
    "    r\"\"\"\n",
    "        \\params:\n",
    "            - phi0:           torch.Tensor(Nt,Nx), start element of the markov chain\n",
    "            - trajLength:     float, Molecular Dynamics integration length, see leapfrog\n",
    "            - Nmd:            int,  number of integration steps, see leapfrog\n",
    "            - Nconf:          int, number of configurations (after burn in and without thermalization)\n",
    "            - burnIn:         int, number of configurations to be discarded at the beginning of the algorithm (thermalization from phi0)\n",
    "            - thermalization: int, number of configurations to be discarded between two markov elements (reducing the autocorrelation)\n",
    "    \n",
    "        Implementation of a HMC algorithm.\n",
    "    \"\"\"\n",
    "    \n",
    "    def hmc_step(phi_n):\n",
    "        r\"\"\"\n",
    "            A HMC step if transformation is None!\n",
    "        \"\"\"\n",
    "        \n",
    "        # sample a momentum field pi ~ N(0,1)\n",
    "        pi = torch.normal(\n",
    "            mean = torch.zeros((Nt,Nx),**torchTensorArgs).real, \n",
    "            std  = torch.ones((Nt,Nx),**torchTensorArgs).real\n",
    "        ) + 0.j\n",
    "        \n",
    "        # Compute initial hamiltonian value\n",
    "        H0 = hamiltonian(phi_n,pi)\n",
    "        \n",
    "        # Integrate Hamiltons EoM to generate a proposal\n",
    "        phi,pi = leapfrog(\n",
    "            phi0 = phi_n,\n",
    "            pi0  = pi ,\n",
    "            trajLength = trajLength,\n",
    "            Nmd    = Nmd,\n",
    "        )\n",
    "        \n",
    "        # Compute final hamiltonian value\n",
    "        H1 = hamiltonian(phi,pi)\n",
    "        \n",
    "        \n",
    "        # accept reject\n",
    "        if torch.rand(1).item() <= torch.exp( -(H1-H0).real ).item():\n",
    "            return phi, 1\n",
    "        else:\n",
    "            return phi_n, 0\n",
    "        \n",
    "        # Compute final hamiltonian value\n",
    "        H1 = hamiltonian(phi,pi)\n",
    "        \n",
    "        # accept reject\n",
    "        if torch.rand(1).item() <= torch.exp( -(H1-H0).real ).item():\n",
    "            return phi, 1\n",
    "        else:\n",
    "            return phi_n, 0\n",
    "    \n",
    "    # create a list of configurations with length Nconf\n",
    "    markovChain = torch.zeros( (Nconf,Nt,Nx), **torchTensorArgs )\n",
    "    \n",
    "    # create a list of action values\n",
    "    action_full = torch.zeros( (Nconf+burnIn), **torchTensorArgs )\n",
    "    action_markovChain = torch.zeros( (Nconf), **torchTensorArgs )\n",
    "    \n",
    "    # perform burnIn calculations\n",
    "    phi_n = phi0.clone()\n",
    "    for n in range(burnIn):\n",
    "        phi_n,_ = hmc_step(phi_n)\n",
    "        action_full[n] = action(phi_n)\n",
    "\n",
    "    # store starting point of HMC\n",
    "    markovChain[0,:,:] = phi_n\n",
    "    action_markovChain[0] = action(markovChain[0])\n",
    "    \n",
    "    acceptenceRate = 0\n",
    "            \n",
    "    # perform markov chain calculation\n",
    "    for n in range(Nconf-1):\n",
    "        markovChain[n+1],acceptence = hmc_step(markovChain[n])\n",
    "        action_full[n+burnIn] = action(markovChain[n+1])\n",
    "        action_markovChain[n+1] = action_full[n+burnIn]\n",
    "            \n",
    "        acceptenceRate += acceptence\n",
    "        \n",
    "        if n != Nconf-2:\n",
    "            # intermediate thermalization\n",
    "            phi_n = markovChain[n+1]\n",
    "            for _ in range(thermalization):\n",
    "                phi_n,_ = hmc_step(phi_n)\n",
    "        \n",
    "    \n",
    "    return {\n",
    "        \"configs\": markovChain,\n",
    "        \"S\": action_markovChain,\n",
    "        \"S full\": action_full,\n",
    "        \"acceptence rate\": acceptenceRate/Nconf\n",
    "    }"
   ]
  },
  {
   "cell_type": "code",
   "execution_count": 25,
   "metadata": {},
   "outputs": [
    {
     "name": "stdout",
     "output_type": "stream",
     "text": [
      "Wall time: 0 ns\n"
     ]
    }
   ],
   "source": [
    "\n",
    "%%time\n",
    "\n",
    "testHMC = False\n",
    "\n",
    "if testHMC:\n",
    "    trajectoryLength = 1.5\n",
    "    N_moleculardynamics = 3\n",
    "    Nconf = 2_000\n",
    "    burnIn = 1_000\n",
    "    thermalization = 0\n",
    "\n",
    "    # And here is how it works without a Neural Network:\n",
    "    res = HMC(\n",
    "        phi0 = torch.rand(Nt,Nx,**torchTensorArgs).real+1.j*tpOffset, \n",
    "        trajLength = trajectoryLength, \n",
    "        Nmd = N_moleculardynamics, \n",
    "        Nconf = Nconf, \n",
    "        burnIn = burnIn, \n",
    "        thermalization = thermalization\n",
    "    )\n"
   ]
  },
  {
   "cell_type": "code",
   "execution_count": 26,
   "metadata": {},
   "outputs": [],
   "source": [
    "testHMC = False\n",
    "\n",
    "if testHMC:\n",
    "    # plot the action evolution\n",
    "    plt.plot(np.arange(0,burnIn+Nconf), res['S full'].real.numpy(), 'x', label = r\"$S[\\phi_n]$\")\n",
    "    S_est = np.ones(burnIn+Nconf)*res['S'].real.mean().item()\n",
    "    S_err = np.ones(burnIn+Nconf)*res['S'].real.std().item()\n",
    "    plt.plot( np.arange(0,burnIn+Nconf), S_est, 'r-', label = r\"$\\left\\langleS[\\phi_n]\\right\\rangle$\" )\n",
    "    plt.fill_between(np.arange(0,burnIn+Nconf),\n",
    "        S_est-S_err,\n",
    "        S_est+S_err,\n",
    "        color = 'r',\n",
    "        alpha = 0.4\n",
    "    )\n",
    "    plt.axvline(burnIn, color='k',linestyle ='-.', label = \"Burn In\")\n",
    "\n",
    "    plt.xlabel(r\"Markov Chain ID: $n$\")\n",
    "    plt.ylabel(r\"Action Value: $S[\\phi_n]$\")\n",
    "    plt.legend()\n",
    "    plt.title(f\"Action Evolution with burnIn={burnIn}\")\n",
    "\n",
    "    print(f\"Acceptence Rate = {res['acceptence rate']}\")\n"
   ]
  },
  {
   "cell_type": "code",
   "execution_count": 27,
   "metadata": {},
   "outputs": [],
   "source": [
    "def MLHMC(phiR0, trajLength, Nmd, Nconf, burnIn, transformation, thermalization = 0):\n",
    "    r\"\"\"\n",
    "        \\params:\n",
    "            - phi0:           torch.Tensor(Nt,Nx), start element of the markov chain\n",
    "            - trajLength:     float, Molecular Dynamics integration length, see leapfrog\n",
    "            - Nmd:            int,  number of integration steps, see leapfrog\n",
    "            - Nconf:          int, number of configurations (after burn in and without thermalization)\n",
    "            - burnIn:         int, number of configurations to be discarded at the beginning of the algorithm (thermalization from phi0)\n",
    "            - transformation: torch.nn.Module, network trained to move the configuration to a sign problem reduced manifold\n",
    "            - thermalization: int, number of configurations to be discarded between two markov elements (reducing the autocorrelation)\n",
    "    \n",
    "        Implementation of a HMC algorithm, augmented with machine learning to alleviate the sign problem.\n",
    "    \"\"\"\n",
    "    \n",
    "    def hmc_step(phiM_n, phiR_n, logDetJ_NN_n):\n",
    "        \n",
    "        # sample a momentum field pi ~ N(0,1)\n",
    "        pi = torch.normal(\n",
    "            mean = torch.zeros((Nt,Nx),**torchTensorArgs).real, \n",
    "            std  = torch.ones((Nt,Nx),**torchTensorArgs).real\n",
    "        ) + 0.j\n",
    "        \n",
    "        # Compute initial hamiltonian value\n",
    "        H0 = hamiltonian(phiM_n,pi) - logDetJ_NN_n\n",
    "        \n",
    "        # Integrate Hamiltons EoM to generate a proposal\n",
    "        # This integration needs to be done on the real plane!\n",
    "        phiR,pi = leapfrog(\n",
    "            phi0 = phiR_n,\n",
    "            pi0  = pi,\n",
    "            trajLength = trajLength,\n",
    "            Nmd    = Nmd,\n",
    "        )\n",
    "        \n",
    "        # transform to the more optimal manifold\n",
    "        phiM, logDetJ_NN = transformation(phiR)\n",
    "        \n",
    "        # Compute final hamiltonian value\n",
    "        H1 = hamiltonian(phiM,pi) - logDetJ_NN\n",
    "        \n",
    "        #print(\"the probability to accept is \", torch.exp( -(H1-H0).real ))\n",
    "\n",
    "        \n",
    "        # accept reject\n",
    "        if torch.rand(1).item() <= torch.exp( -(H1-H0).real ).item():\n",
    "            return phiM,phiR,logDetJ_NN, 1\n",
    "        else:\n",
    "            return phiM_n,phiR_n,logDetJ_NN_n, 0\n",
    "    \n",
    "    # create a list of configurations with length Nconf\n",
    "    # manifold configs\n",
    "    markovChainM = torch.zeros( (Nconf,Nt,Nx), **torchTensorArgs )\n",
    "    # real plane configs\n",
    "    markovChainR = torch.zeros( (Nconf,Nt,Nx), **torchTensorArgs )\n",
    "    \n",
    "    # create a list of action values\n",
    "    action_full = torch.zeros( (Nconf+burnIn), **torchTensorArgs )\n",
    "    action_markovChain = torch.zeros( (Nconf), **torchTensorArgs )\n",
    "    \n",
    "    # create a list of weights i.e. logDet J_NN\n",
    "    logDetJ_NN_full = torch.zeros( (Nconf+burnIn), **torchTensorArgs )\n",
    "    logDetJ_NN_markovChain = torch.zeros( (Nconf), **torchTensorArgs )\n",
    "    \n",
    "    # perform burnIn calculations\n",
    "    phiR_n = phiR0.clone()\n",
    "    phiM_n, logDetJ_NN_n = transformation(phiR_n)\n",
    "    for n in range(burnIn):\n",
    "        phiM_n,phiR_n,logDetJ_NN_n,_ = hmc_step(phiM_n,phiR_n,logDetJ_NN_n)\n",
    "        action_full[n] = action(phiM_n)\n",
    "        #print(logDetJ_NN_n)\n",
    "        logDetJ_NN_full[n] = logDetJ_NN_n\n",
    "\n",
    "    # store starting point of HMC\n",
    "    markovChainM[0,:,:] = phiM_n\n",
    "    markovChainR[0,:,:] = phiR_n\n",
    "    action_markovChain[0] = action_full[burnIn-1]\n",
    "    logDetJ_NN_markovChain[0] = logDetJ_NN_full[burnIn-1]\n",
    "    \n",
    "    acceptenceRate = 0\n",
    "            \n",
    "    # perform markov chain calculation\n",
    "    for n in range(Nconf-1):\n",
    "        markovChainM[n+1],markovChainR[n+1],logDetJ_NN_markovChain[n+1],acceptence = \\\n",
    "            hmc_step(markovChainM[n],markovChainR[n],logDetJ_NN_markovChain[n])\n",
    "        \n",
    "        action_full[n+burnIn] = action(markovChainM[n+1])\n",
    "        logDetJ_NN_full[n+burnIn] = logDetJ_NN_markovChain[n+1]\n",
    "        action_markovChain[n] = action_full[n+burnIn]\n",
    "            \n",
    "        acceptenceRate += acceptence\n",
    "        \n",
    "        phiM_n = markovChainM[n+1]\n",
    "        phiR_n = markovChainR[n+1]\n",
    "        logDetJ_NN_n = logDetJ_NN_markovChain[n+1]\n",
    "        if n != Nconf-2:\n",
    "            for _ in range(thermalization):\n",
    "                phiM_n,phiR_n,logDetJ_NN_n,_ = hmc_step(phiM_n,phiR_n,logDetJ_NN_n)\n",
    "        \n",
    "    return {\n",
    "        \"configsM\": markovChainM,\n",
    "        \"configsR\": markovChainR,\n",
    "        \"S\": action_markovChain,\n",
    "        \"S full\": action_full,\n",
    "        \"log Det J_NN\": logDetJ_NN_markovChain,\n",
    "        \"log Det J_NN full\": logDetJ_NN_full,\n",
    "        \"acceptence rate\": acceptenceRate/Nconf\n",
    "    }"
   ]
  },
  {
   "cell_type": "code",
   "execution_count": 28,
   "metadata": {},
   "outputs": [],
   "source": [
    "class LinearTransformation(torch.nn.Module):\n",
    "    def __init__(self, Nt, Nx):\n",
    "        super(LinearTransformation, self).__init__()\n",
    "        self.register_parameter(name='bias', param=torch.nn.Parameter(torch.zeros((Nt, Nx//2), **torchTensorArgs)))\n",
    "        self.register_parameter(name='weight', param=torch.nn.Parameter(torch.zeros((Nt, Nx//2, Nt, Nx//2), **torchTensorArgs)))\n",
    "\n",
    "    def forward(self, x):\n",
    "        \n",
    "        \n",
    "        return torch.tensordot(x,self.weight,dims=([-1,-2],[0,1])) + self.bias\n",
    "        "
   ]
  },
  {
   "cell_type": "code",
   "execution_count": 29,
   "metadata": {},
   "outputs": [],
   "source": [
    "# define a random PRACL layer to test the transformation\n",
    "def generate_parameters(internalLayer):\n",
    "    \n",
    "    layer = []\n",
    "    for _ in range(internalLayer-1):\n",
    "        #d = torch.nn.Linear(Nx//2, Nx//2, dtype=torch.cdouble)\n",
    "        \n",
    "        #torch.nn.init.zeros_(d.weight)\n",
    "        #torch.nn.init.zeros_(d.bias)\n",
    "        \n",
    "        d = LinearTransformation(Nt, Nx)\n",
    "        \n",
    "        layer.append(d)\n",
    "        layer.append(torch.nn.Softsign())\n",
    "        \n",
    "    e = LinearTransformation(Nt, Nx)\n",
    "    #torch.nn.init.zeros_(e.weight)\n",
    "    #torch.nn.init.zeros_(e.bias)\n",
    "    layer.append(e)\n",
    "    \n",
    "    return torch.nn.Sequential(*layer)\n",
    "\n",
    "def generate_coupling(internalLayer):    \n",
    "    return AffineCoupling( m = generate_parameters(internalLayer), a = generate_parameters(internalLayer) )\n",
    "\n",
    "numPRACLLayers = 1\n",
    "internalLayer = 2\n",
    "NN = [] \n",
    "\n",
    "for _ in range(numPRACLLayers):\n",
    "    NN.append(\n",
    "        PRCL(\n",
    "            Nt,\n",
    "            Nx,\n",
    "            coupling1 = generate_coupling(internalLayer),\n",
    "            coupling2 = generate_coupling(internalLayer),\n",
    "        )\n",
    "    )\n",
    "\n",
    "NN = Sequential(NN)\n",
    "#for i in NN.parameters():\n",
    " #   print(i)\n"
   ]
  },
  {
   "cell_type": "code",
   "execution_count": 30,
   "metadata": {},
   "outputs": [],
   "source": [
    "def Loss(phi, logDet):\n",
    "    n,Nt,Nx = phi.shape\n",
    "    S = torch.zeros(n,**torchTensorArgs)\n",
    "    #i = torch.arange(0,n)\n",
    "    for i in range(n):\n",
    "        S[i] = action(phi[i,:,:])\n",
    "    S -= logDet\n",
    "    return torch.exp(-S).mean().abs()\n"
   ]
  },
  {
   "cell_type": "code",
   "execution_count": 31,
   "metadata": {},
   "outputs": [
    {
     "data": {
      "application/vnd.jupyter.widget-view+json": {
       "model_id": "81f3fb8966124e99900a8bf7fd7611f4",
       "version_major": 2,
       "version_minor": 0
      },
      "text/plain": [
       "HBox(children=(FloatProgress(value=0.0, max=10.0), HTML(value='')))"
      ]
     },
     "metadata": {},
     "output_type": "display_data"
    },
    {
     "name": "stderr",
     "output_type": "stream",
     "text": [
      "D:\\anaconda\\lib\\site-packages\\torch\\autograd\\__init__.py:173: UserWarning: CUDA initialization: CUDA driver initialization failed, you might not have a CUDA gpu. (Triggered internally at  C:\\cb\\pytorch_1000000000000\\work\\c10\\cuda\\CUDAFunctions.cpp:112.)\n",
      "  Variable._execution_engine.run_backward(  # Calls into the C++ engine to run the backward pass\n"
     ]
    },
    {
     "name": "stdout",
     "output_type": "stream",
     "text": [
      "\n",
      "Wall time: 3.67 s\n"
     ]
    }
   ],
   "source": [
    "%%time\n",
    "# ... training loop ...\n",
    "\n",
    "\n",
    "\n",
    "import torch.optim as optim\n",
    "from tqdm.notebook import tqdm\n",
    "\n",
    "EPOCHS = 10\n",
    "epochs = np.arange(1,EPOCHS+1)\n",
    "LOSSES = torch.zeros(EPOCHS)\n",
    "LossValid = torch.zeros(EPOCHS)\n",
    "\n",
    "\n",
    "LR = 0.005    \n",
    "BETAS = (0.9, 0.999)\n",
    "EPS = 1e-08\n",
    "WEIGHT_DECAY = 0\n",
    "\n",
    "Nconf_learn = 100\n",
    "\n",
    "phiR = torch.rand((Nconf_learn,Nt,Nx),**torchTensorArgs).real+1.j*tpOffset \n",
    "\n",
    "f = 0.07\n",
    "Nconf_valid = int(f*Nconf_learn)\n",
    "phivalid = torch.rand((Nconf_valid,Nt,Nx),**torchTensorArgs).real+1.j*tpOffset \n",
    "\n",
    "optimizer = optim.Adam(NN.parameters(), lr=LR, betas=BETAS, eps=EPS, weight_decay=WEIGHT_DECAY, amsgrad=False, maximize=True)\n",
    "#scheduler = optim.lr_scheduler.ExponentialLR(optimizer, gamma=0.9)\n",
    "\n",
    "\n",
    "for epoch in tqdm(range(EPOCHS)):   \n",
    "\n",
    "    phiM, logDetJ_NN = NN(phiR)\n",
    "    loss = Loss(phiM, logDetJ_NN)\n",
    "    optimizer.zero_grad()\n",
    "    loss.backward()\n",
    "    optimizer.step()\n",
    "    #scheduler.step()\n",
    "\n",
    "    \n",
    "    LOSSES[epoch] = loss\n",
    "\n",
    "    # validation\n",
    "    with torch.no_grad():\n",
    "        PHIvalid, logD = NN(phivalid)\n",
    "        LossValid[epoch] = Loss(PHIvalid, logD)\n",
    "\n",
    "    "
   ]
  },
  {
   "cell_type": "code",
   "execution_count": 32,
   "metadata": {},
   "outputs": [
    {
     "name": "stdout",
     "output_type": "stream",
     "text": [
      "Wall time: 16.6 s\n"
     ]
    }
   ],
   "source": [
    "%%time\n",
    "trajectoryLength = 1.5\n",
    "N_moleculardynamics = 3\n",
    "Nconf = 100\n",
    "burnIn = 1_000\n",
    "thermalization = 0\n",
    "\n",
    "# And here is how it works with a Neural Network:\n",
    "res = MLHMC(\n",
    "    phiR0 = torch.rand(Nt,Nx,**torchTensorArgs).real+1.j*tpOffset, \n",
    "    trajLength = trajectoryLength, \n",
    "    Nmd = N_moleculardynamics, \n",
    "    Nconf = Nconf, \n",
    "    burnIn = burnIn, \n",
    "    transformation = NN,\n",
    "    thermalization = thermalization\n",
    ")"
   ]
  },
  {
   "cell_type": "code",
   "execution_count": 33,
   "metadata": {},
   "outputs": [
    {
     "name": "stdout",
     "output_type": "stream",
     "text": [
      "Acceptence Rate = 0.78\n"
     ]
    },
    {
     "data": {
      "image/png": "[encoded data removed]",
      "text/plain": [
       "<Figure size 432x288 with 1 Axes>"
      ]
     },
     "metadata": {
      "needs_background": "light"
     },
     "output_type": "display_data"
    }
   ],
   "source": [
    "# plot the action evolution\n",
    "plt.plot(np.arange(0,burnIn+Nconf), res['S full'].detach().real.numpy(), 'x', label = r\"$S[\\phi_n]$\")\n",
    "S_est = np.ones(burnIn+Nconf)*res['S'].real.mean().item()\n",
    "S_err = np.ones(burnIn+Nconf)*res['S'].real.std().item()\n",
    "plt.plot( np.arange(0,burnIn+Nconf), S_est, 'r-', label = r\"$\\left\\langleS[\\phi_n]\\right\\rangle$\" )\n",
    "plt.fill_between(np.arange(0,burnIn+Nconf),\n",
    "    S_est-S_err,\n",
    "    S_est+S_err,\n",
    "    color = 'r',\n",
    "    alpha = 0.4\n",
    ")\n",
    "plt.axvline(burnIn, color='k',linestyle ='-.', label = \"Burn In\")\n",
    "\n",
    "plt.xlabel(r\"Markov Chain ID: $n$\")\n",
    "plt.ylabel(r\"Action Value: $S[\\phi_n]$\")\n",
    "plt.legend()\n",
    "plt.title(f\"Action Evolution with burnIn={burnIn}\")\n",
    "\n",
    "print(f\"Acceptence Rate = {res['acceptence rate']}\")"
   ]
  },
  {
   "cell_type": "code",
   "execution_count": 34,
   "metadata": {},
   "outputs": [
    {
     "data": {
      "image/png": "[encoded data removed]",
      "text/plain": [
       "<Figure size 432x288 with 1 Axes>"
      ]
     },
     "metadata": {
      "needs_background": "light"
     },
     "output_type": "display_data"
    }
   ],
   "source": [
    "plt.plot(epochs, LOSSES.detach().numpy(),  '-r', label='Test loss function')\n",
    "plt.yscale('log')\n",
    "plt.xlabel('Epoch')\n",
    "plt.ylabel('Log of loss function')\n",
    "#plt.title('Learning rate for the first quarter epochs: %.4f'%(lr1))\n",
    "#plt.suptitle('Learning rate for the last  epochs: %.4f'%lr2)\n",
    " \n",
    "\n",
    "plt.plot(epochs, LossValid.numpy(), '-b', label='Validation loss function')\n",
    "plt.legend()\n",
    "plt.show()\n",
    "#plt.suptitle('\\nNumber of data points: %.0f'%(train), y=1.05)\n",
    "#"
   ]
  },
  {
   "cell_type": "code",
   "execution_count": 35,
   "metadata": {},
   "outputs": [
    {
     "data": {
      "text/plain": [
       "tensor([0.2838, 0.3061, 0.3299, 0.3552, 0.3820, 0.4106, 0.4409, 0.4731, 0.5073,\n",
       "        0.5435])"
      ]
     },
     "execution_count": 35,
     "metadata": {},
     "output_type": "execute_result"
    }
   ],
   "source": [
    "LOSSES.cpu().detach()"
   ]
  },
  {
   "cell_type": "code",
   "execution_count": 36,
   "metadata": {},
   "outputs": [
    {
     "data": {
      "text/plain": [
       "tensor([-1.2596, -1.1837, -1.1089, -1.0351, -0.9623, -0.8902, -0.8190, -0.7485,\n",
       "        -0.6788, -0.6096])"
      ]
     },
     "execution_count": 36,
     "metadata": {},
     "output_type": "execute_result"
    }
   ],
   "source": [
    "torch.log(LOSSES.cpu().detach())"
   ]
  },
  {
   "cell_type": "code",
   "execution_count": 37,
   "metadata": {},
   "outputs": [],
   "source": [
    "def StatPower(x):\n",
    "    N = x.size\n",
    "    result = torch.zeros(N)\n",
    "    error = torch.zeros(N)\n",
    "    for i in range(N):\n",
    "        result[i] = torch.exp(-1j*res['S'].imag[:i]).mean().abs()\n",
    "        error[i] = torch.exp(-1j*res['S'].imag[:i]).std()\n",
    "    return result, error"
   ]
  },
  {
   "cell_type": "code",
   "execution_count": 38,
   "metadata": {},
   "outputs": [
    {
     "data": {
      "text/plain": [
       "Text(0, 0.5, 'Statistical power')"
      ]
     },
     "execution_count": 38,
     "metadata": {},
     "output_type": "execute_result"
    },
    {
     "data": {
      "image/png": "[encoded data removed]",
      "text/plain": [
       "<Figure size 432x288 with 1 Axes>"
      ]
     },
     "metadata": {
      "needs_background": "light"
     },
     "output_type": "display_data"
    }
   ],
   "source": [
    "x=np.arange(0,Nconf, 100)\n",
    "\n",
    "result, error = StatPower(x)\n",
    "\n",
    "plt.errorbar(x, result.detach().numpy(), yerr = error, capsize = 2)\n",
    "plt.title(\"Statistical Power computed up to different numbers of configurations\")\n",
    "plt.xlabel(\"N\")\n",
    "plt.ylabel(\"Statistical power\")"
   ]
  },
  {
   "cell_type": "code",
   "execution_count": 39,
   "metadata": {},
   "outputs": [
    {
     "data": {
      "text/plain": [
       "array([0])"
      ]
     },
     "execution_count": 39,
     "metadata": {},
     "output_type": "execute_result"
    }
   ],
   "source": [
    "x"
   ]
  },
  {
   "cell_type": "code",
   "execution_count": 40,
   "metadata": {},
   "outputs": [
    {
     "data": {
      "text/plain": [
       "array([-2.87706458])"
      ]
     },
     "execution_count": 40,
     "metadata": {},
     "output_type": "execute_result"
    }
   ],
   "source": [
    "res['S full'].detach().imag.numpy()[x]"
   ]
  },
  {
   "cell_type": "code",
   "execution_count": 41,
   "metadata": {},
   "outputs": [
    {
     "data": {
      "text/plain": [
       "array([ 0.18930814,  0.18930814, -1.8829468 , ..., -2.27605459,\n",
       "       -2.12404913,  0.        ])"
      ]
     },
     "execution_count": 41,
     "metadata": {},
     "output_type": "execute_result"
    }
   ],
   "source": [
    "res['S full'].detach().real.numpy()"
   ]
  },
  {
   "cell_type": "code",
   "execution_count": 42,
   "metadata": {},
   "outputs": [
    {
     "data": {
      "text/plain": [
       "array([nan], dtype=float32)"
      ]
     },
     "execution_count": 42,
     "metadata": {},
     "output_type": "execute_result"
    }
   ],
   "source": [
    "result.detach().numpy()"
   ]
  },
  {
   "cell_type": "code",
   "execution_count": 43,
   "metadata": {},
   "outputs": [
    {
     "data": {
      "text/plain": [
       "array([nan], dtype=float32)"
      ]
     },
     "execution_count": 43,
     "metadata": {},
     "output_type": "execute_result"
    }
   ],
   "source": [
    "error.detach().numpy()"
   ]
  },
  {
   "cell_type": "code",
   "execution_count": null,
   "metadata": {},
   "outputs": [],
   "source": []
  }
 ],
 "metadata": {
  "kernelspec": {
   "display_name": "Python 3",
   "language": "python",
   "name": "python3"
  },
  "language_info": {
   "codemirror_mode": {
    "name": "ipython",
    "version": 3
   },
   "file_extension": ".py",
   "mimetype": "text/x-python",
   "name": "python",
   "nbconvert_exporter": "python",
   "pygments_lexer": "ipython3",
   "version": "3.8.3"
  }
 },
 "nbformat": 4,
 "nbformat_minor": 5
}
